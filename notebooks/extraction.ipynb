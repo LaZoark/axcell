{
 "cells": [
  {
   "cell_type": "markdown",
   "metadata": {},
   "source": [
    "# Text and Tables Extraction\n",
    "\n",
    "This notebook presents how to use our pipeline to extract text and tables from arXiv papers with available LaTeX source code."
   ]
  },
  {
   "cell_type": "code",
   "execution_count": 1,
   "metadata": {},
   "outputs": [],
   "source": [
    "from pathlib import Path\n",
    "from axcell.helpers.paper_extractor import PaperExtractor"
   ]
  },
  {
   "cell_type": "markdown",
   "metadata": {},
   "source": [
    "### Structure of Directories\n",
    "\n",
    "We cache the artifacts produced by successful execution of the intermediate steps of extraction pipeline. The `root` argument of `PaperExtractor` is a path under which the following directory structue is created:\n",
    "\n",
    "```\n",
    "root\n",
    "├── sources                       # e-print archives\n",
    "├── unpacked_sources              # extracted latex sources (generated automatically)\n",
    "├── htmls                         # converted html files (generated automatically)\n",
    "└── papers                        # extracted text and tables (generated automatically)\n",
    "```"
   ]
  },
  {
   "cell_type": "code",
   "execution_count": 2,
   "metadata": {},
   "outputs": [
    {
     "data": {
      "text/plain": [
       "'/home/lazoark/OneDrive/Curriculum/NLP_2024/CLEF2024/axcell/notebooks/data'"
      ]
     },
     "execution_count": 2,
     "metadata": {},
     "output_type": "execute_result"
    }
   ],
   "source": [
    "ROOT_PATH = Path('data')\n",
    "ROOT_PATH.absolute().__str__()"
   ]
  },
  {
   "cell_type": "markdown",
   "metadata": {},
   "source": [
    "In our case there's a single e-print archive:"
   ]
  },
  {
   "cell_type": "code",
   "execution_count": 3,
   "metadata": {},
   "outputs": [],
   "source": [
    "# !tree {ROOT_PATH}"
   ]
  },
  {
   "cell_type": "code",
   "execution_count": 4,
   "metadata": {},
   "outputs": [],
   "source": [
    "extract = PaperExtractor(ROOT_PATH)"
   ]
  },
  {
   "cell_type": "markdown",
   "metadata": {},
   "source": [
    "To extract text and tables from a single paper just pass the path to the archive:"
   ]
  },
  {
   "cell_type": "code",
   "execution_count": 5,
   "metadata": {},
   "outputs": [
    {
     "name": "stdout",
     "output_type": "stream",
     "text": [
      "[]\n"
     ]
    }
   ],
   "source": [
    "SOURCES_PATH = ROOT_PATH / 'sources'\n",
    "# extract(SOURCES_PATH / '1903' / '1903.11816v1')\n",
    "\n",
    "# from glob import glob\n",
    "# glob(ROOT_PATH)\n",
    "\n",
    "all_file = [_.as_posix() for _ in SOURCES_PATH.glob(\"*//*.tex\")]\n",
    "print(all_file)\n",
    "# extract(all_file[0])"
   ]
  },
  {
   "cell_type": "code",
   "execution_count": 6,
   "metadata": {},
   "outputs": [
    {
     "name": "stdout",
     "output_type": "stream",
     "text": [
      "[DEBUG] Entering `latex.to_html`\n",
      "Entering `TemporaryDirectory() as output_dir:`...\n",
      "Entering `output_dir = Path(output_dir)`...\n",
      "Entering `self.latex2html(source_dir, output_dir)`...\n",
      "####################################################################################################\n",
      "{PosixPath('/home/lazoark/miniconda3/envs/axcell/lib/python3.7/site-packages/axcell/scripts/latex2html.sh'): {'bind': '/files/latex2html.sh', 'mode': 'ro'}, PosixPath('/home/lazoark/miniconda3/envs/axcell/lib/python3.7/site-packages/axcell/scripts/guess_main.py'): {'bind': '/files/guess_main.py', 'mode': 'ro'}, PosixPath('/home/lazoark/miniconda3/envs/axcell/lib/python3.7/site-packages/axcell/scripts/patches'): {'bind': '/files/patches', 'mode': 'ro'}, PosixPath('/home/lazoark/OneDrive/Curriculum/NLP_2024/CLEF2024/axcell/notebooks/data/unpacked_sources/1703/1703.03400'): {'bind': '/files/ro-source', 'mode': 'ro'}, PosixPath('/tmp/tmpusa3fik7'): {'bind': '/files/htmls', 'mode': 'rw'}}\n",
      "['/files/latex2html.sh', 'index.html']\n",
      "####################################################################################################\n",
      "[DEBUG] Entering `self.client.containers.run(\"arxivvanity/engrafo:latest\", command, volumes=volumes)`...\n"
     ]
    },
    {
     "name": "stdout",
     "output_type": "stream",
     "text": [
      "Command '['/files/latex2html.sh', 'index.html']' in image 'arxivvanity/engrafo:latest' returned non-zero exit status 1: b''\n",
      "processing-error\n"
     ]
    },
    {
     "data": {
      "text/plain": [
       "axcell.errors.LatexConversionError()"
      ]
     },
     "execution_count": 6,
     "metadata": {},
     "output_type": "execute_result"
    }
   ],
   "source": [
    "# _ID = \"0811.3247\"\n",
    "_ID = \"1703.03400\"\n",
    "# _ID = \"2105.05348\"\n",
    "# _ID = \"1805.09843\"\n",
    "# _ID = \"2005.06723v1\"\n",
    "\n",
    "extract(Path(\"data/sources\").joinpath(_ID.split(\".\")[0]).joinpath(_ID))"
   ]
  },
  {
   "cell_type": "code",
   "execution_count": 7,
   "metadata": {},
   "outputs": [],
   "source": [
    "# {\n",
    "#   Path('/home/lazoark/miniconda3/envs/axcell/lib/python3.7/site-packages/axcell/scripts/latex2html.sh'): {'bind': '/files/latex2html.sh', 'mode': 'ro'}, \n",
    "#   Path('/home/lazoark/miniconda3/envs/axcell/lib/python3.7/site-packages/axcell/scripts/guess_main.py'): {'bind': '/files/guess_main.py', 'mode': 'ro'}, \n",
    "#   Path('/home/lazoark/miniconda3/envs/axcell/lib/python3.7/site-packages/axcell/scripts/patches'): {'bind': '/files/patches', 'mode': 'ro'}, \n",
    "#   Path('/home/lazoark/OneDrive/Curriculum/NLP_2024/CLEF2024/axcell/notebooks/data/unpacked_sources/1703/1703.03400'): {'bind': '/files/ro-source', 'mode': 'ro'}, \n",
    "#   Path('/tmp/tmp7kel2899'): {'bind': '/files/htmls', 'mode': 'rw'}\n",
    "# }\n"
   ]
  },
  {
   "cell_type": "code",
   "execution_count": 8,
   "metadata": {},
   "outputs": [],
   "source": [
    "# # SOURCES_PATH = ROOT_PATH / 'sources'\n",
    "# extract(SOURCES_PATH / '1903' / '1903.11816v1')\n",
    "\n",
    "# from glob import glob\n",
    "# glob(ROOT_PATH)\n",
    "\n",
    "# all_file = [_.as_posix() for _ in SOURCES_PATH.glob(\"*//*.tex\")]\n",
    "# print(all_file)\n",
    "# # extract(all_file[0])"
   ]
  },
  {
   "cell_type": "markdown",
   "metadata": {},
   "source": [
    "The subdirectory structure under `sources` directory will be replicated in the other top-level directories."
   ]
  },
  {
   "cell_type": "code",
   "execution_count": 9,
   "metadata": {},
   "outputs": [],
   "source": [
    "# !tree -L 4 {ROOT_PATH}"
   ]
  },
  {
   "cell_type": "markdown",
   "metadata": {},
   "source": [
    "The extracted data is stored in `papers` directory. We can read it using `PaperCollection` class. `PaperCollection` is a wrapper for `list` of papers with additional functions added for convenience. Due to large number of papers it is recommended to load the dataset in parallel (default uses number of processes equal to number of CPU cores) and store it in a pickle file. Set jobs=1 to disable multiprocessing."
   ]
  },
  {
   "cell_type": "code",
   "execution_count": 10,
   "metadata": {},
   "outputs": [
    {
     "name": "stdout",
     "output_type": "stream",
     "text": [
      "data/papers\n"
     ]
    },
    {
     "ename": "AttributeError",
     "evalue": "'NoneType' object has no attribute 'text'",
     "output_type": "error",
     "traceback": [
      "\u001b[0;31m---------------------------------------------------------------------------\u001b[0m",
      "\u001b[0;31mAttributeError\u001b[0m                            Traceback (most recent call last)",
      "\u001b[0;32m/tmp/ipykernel_2628362/2066711369.py\u001b[0m in \u001b[0;36m<module>\u001b[0;34m\u001b[0m\n\u001b[1;32m      7\u001b[0m \u001b[0mprint\u001b[0m\u001b[0;34m(\u001b[0m\u001b[0mPAPERS_PATH\u001b[0m\u001b[0;34m)\u001b[0m\u001b[0;34m\u001b[0m\u001b[0;34m\u001b[0m\u001b[0m\n\u001b[1;32m      8\u001b[0m \u001b[0mpaper\u001b[0m \u001b[0;34m=\u001b[0m \u001b[0mpc\u001b[0m\u001b[0;34m.\u001b[0m\u001b[0mget_by_id\u001b[0m\u001b[0;34m(\u001b[0m\u001b[0m_ID\u001b[0m\u001b[0;34m)\u001b[0m\u001b[0;34m\u001b[0m\u001b[0;34m\u001b[0m\u001b[0m\n\u001b[0;32m----> 9\u001b[0;31m \u001b[0mpaper\u001b[0m\u001b[0;34m.\u001b[0m\u001b[0mtext\u001b[0m\u001b[0;34m\u001b[0m\u001b[0;34m\u001b[0m\u001b[0m\n\u001b[0m",
      "\u001b[0;31mAttributeError\u001b[0m: 'NoneType' object has no attribute 'text'"
     ]
    }
   ],
   "source": [
    "from axcell.data.paper_collection import PaperCollection\n",
    "\n",
    "PAPERS_PATH = ROOT_PATH / 'papers'\n",
    "pc = PaperCollection.from_files(PAPERS_PATH)\n",
    "# pc.to_pickle('mypapers.pkl')\n",
    "# pc = PaperCollection.from_pickle('mypapers.pkl')\n",
    "print(PAPERS_PATH)\n",
    "paper = pc.get_by_id(_ID)\n",
    "paper.text"
   ]
  },
  {
   "cell_type": "code",
   "execution_count": null,
   "metadata": {},
   "outputs": [
    {
     "ename": "AttributeError",
     "evalue": "'NoneType' object has no attribute 'text'",
     "output_type": "error",
     "traceback": [
      "\u001b[0;31m---------------------------------------------------------------------------\u001b[0m",
      "\u001b[0;31mAttributeError\u001b[0m                            Traceback (most recent call last)",
      "\u001b[0;32m/tmp/ipykernel_1628551/2205732860.py\u001b[0m in \u001b[0;36m<module>\u001b[0;34m\u001b[0m\n\u001b[0;32m----> 1\u001b[0;31m \u001b[0mpaper\u001b[0m\u001b[0;34m.\u001b[0m\u001b[0mtext\u001b[0m\u001b[0;34m.\u001b[0m\u001b[0mtitle\u001b[0m\u001b[0;34m\u001b[0m\u001b[0;34m\u001b[0m\u001b[0m\n\u001b[0m",
      "\u001b[0;31mAttributeError\u001b[0m: 'NoneType' object has no attribute 'text'"
     ]
    }
   ],
   "source": [
    "paper.text.title"
   ]
  },
  {
   "cell_type": "code",
   "execution_count": null,
   "metadata": {},
   "outputs": [
    {
     "ename": "IndexError",
     "evalue": "list index out of range",
     "output_type": "error",
     "traceback": [
      "\u001b[0;31m---------------------------------------------------------------------------\u001b[0m",
      "\u001b[0;31mIndexError\u001b[0m                                Traceback (most recent call last)",
      "\u001b[0;32m/tmp/ipykernel_1627532/2502588363.py\u001b[0m in \u001b[0;36m<module>\u001b[0;34m\u001b[0m\n\u001b[1;32m      1\u001b[0m \u001b[0;31m# paper.tables[7]\u001b[0m\u001b[0;34m\u001b[0m\u001b[0;34m\u001b[0m\u001b[0;34m\u001b[0m\u001b[0m\n\u001b[0;32m----> 2\u001b[0;31m \u001b[0mpaper\u001b[0m\u001b[0;34m.\u001b[0m\u001b[0mtables\u001b[0m\u001b[0;34m[\u001b[0m\u001b[0;36m0\u001b[0m\u001b[0;34m]\u001b[0m\u001b[0;34m\u001b[0m\u001b[0;34m\u001b[0m\u001b[0m\n\u001b[0m",
      "\u001b[0;31mIndexError\u001b[0m: list index out of range"
     ]
    }
   ],
   "source": [
    "# paper.tables[7]\n",
    "paper.tables[0]"
   ]
  },
  {
   "cell_type": "markdown",
   "metadata": {},
   "source": [
    "As *FastFCN: Rethinking Dilated Convolution in the Backbone for Semantic Segmentation* (Wu et al., 2019) is present in our **SegmentedTables** dataset, we can use `PaperCollection` to import annotations (table segmentation and results):"
   ]
  },
  {
   "cell_type": "code",
   "execution_count": null,
   "metadata": {},
   "outputs": [],
   "source": [
    "from axcell.helpers.datasets import read_tables_annotations\n",
    "\n",
    "V1_URL = 'https://github.com/paperswithcode/axcell/releases/download/v1.0/'\n",
    "SEGMENTED_TABLES_URL = V1_URL + 'segmented-tables.json.xz'\n",
    "\n",
    "segmented_tables = read_tables_annotations(SEGMENTED_TABLES_URL)\n",
    "\n",
    "pc = PaperCollection.from_files(PAPERS_PATH, annotations=segmented_tables.to_dict('record'))"
   ]
  },
  {
   "cell_type": "code",
   "execution_count": null,
   "metadata": {},
   "outputs": [
    {
     "ename": "IndexError",
     "evalue": "list index out of range",
     "output_type": "error",
     "traceback": [
      "\u001b[0;31m---------------------------------------------------------------------------\u001b[0m",
      "\u001b[0;31mIndexError\u001b[0m                                Traceback (most recent call last)",
      "\u001b[0;32m<ipython-input-17-e3681c2fcaa9>\u001b[0m in \u001b[0;36m<module>\u001b[0;34m\u001b[0m\n\u001b[1;32m      1\u001b[0m \u001b[0;31m# paper = pc.get_by_id('1903.11816')\u001b[0m\u001b[0;34m\u001b[0m\u001b[0;34m\u001b[0m\u001b[0;34m\u001b[0m\u001b[0m\n\u001b[1;32m      2\u001b[0m \u001b[0mpaper\u001b[0m \u001b[0;34m=\u001b[0m \u001b[0mpc\u001b[0m\u001b[0;34m.\u001b[0m\u001b[0mget_by_id\u001b[0m\u001b[0;34m(\u001b[0m\u001b[0m_ID\u001b[0m\u001b[0;34m)\u001b[0m\u001b[0;34m\u001b[0m\u001b[0;34m\u001b[0m\u001b[0m\n\u001b[0;32m----> 3\u001b[0;31m \u001b[0mpaper\u001b[0m\u001b[0;34m.\u001b[0m\u001b[0mtables\u001b[0m\u001b[0;34m[\u001b[0m\u001b[0;36m0\u001b[0m\u001b[0;34m]\u001b[0m\u001b[0;34m\u001b[0m\u001b[0;34m\u001b[0m\u001b[0m\n\u001b[0m",
      "\u001b[0;31mIndexError\u001b[0m: list index out of range"
     ]
    }
   ],
   "source": [
    "# paper = pc.get_by_id('1903.11816')\n",
    "paper = pc.get_by_id(_ID)\n",
    "paper.tables[7]"
   ]
  },
  {
   "cell_type": "code",
   "execution_count": null,
   "metadata": {},
   "outputs": [
    {
     "data": {
      "text/html": [
       "<style>\n",
       "body{margin:0;padding:0;font-family:-apple-system,BlinkMacSystemFont,Segoe UI,Roboto,Oxygen,Ubuntu,Cantarell,Fira Sans,Droid Sans,Helvetica Neue,sans-serif;-webkit-font-smoothing:antialiased;-moz-osx-font-smoothing:grayscale}code{font-family:source-code-pro,Menlo,Monaco,Consolas,Courier New,monospace}.tableWrapper{-overflow:auto}.tableWrapper .has-annotations{color:#ff3860}.tableWrapper .model-params{background-color:#209cee;color:rgba(0,0,0,.7)}.tableWrapper .table-meta{background-color:#fff3c5;color:rgba(0,0,0,.7)}.tableWrapper .model-best{background-color:#ff3860;color:rgba(0,0,0,.7)}.tableWrapper .model-ensemble{background-color: #aa38ff;color: #fff;}.tableWrapper .model-competing{background-color:#ffdd57;color:rgba(0,0,0,.7)}.tableWrapper .model-paper{background-color:#ff3860;color:#fff}.tableWrapper .dataset-sub{background-color:#23d160;color:#fff}.tableWrapper .dataset-metric{background-color:#209cee;color:#fff}.tableWrapper .dataset{background-color:#02bd43;color:#fff}.tableWrapper .trash{background-color:#363636;color:#f5f5f5}.tableWrapper .wtf{background-color:#f0f;color:#f5f5f5}.tableWrapper .dataset-task{background-color:#77ecdd;color:rgba(0,0,0,.7)}.tableWrapper .dataset-paper{background-color:#e4ffee;color:rgba(0,0,0,.7)}.tableWrapper td.focused-cell{outline:2px solid #9ecaed;border-radius:7px;box-shadow:0 0 10px #9ecaed}.tableWrapper span.text-bold{font-weight:700}.tableWrapper span.text-italic{font-style:italic}.tableWrapper span.text-red{color:red}.tableWrapper span.text-green{color:green}.tableWrapper span.text-blue{color:#00f}.predict-dataset,.predict-dataset-metric,.predict-model-competing,.predict-model-paper,.predict-model-params,.predict-table-meta{outline:2px solid #9ecaed;border-radius:7px;box-shadow:0 0 10px #9ecaed}.tableWrapper .predict-model-params{background-color:#209cee;color:rgba(0,0,0,.7)}.tableWrapper .predict-table-meta{background-color:#fff3c5;color:rgba(0,0,0,.7)}.tableWrapper .predict-model-competing{background-color:#ffdd57;color:rgba(0,0,0,.7)}.tableWrapper .predict-model-paper{background-color:#ff3860;color:#fff}.tableWrapper .predict-dataset-metric{background-color:#209cee;color:#fff}.tableWrapper .predict-dataset{background-color:#02bd43;color:#fff}.tableWrapper td{border:inherit}.tableWrapper table tr td.border-l{border-left:1px solid #000}.tableWrapper table tr td.border-r{border-right:1px solid #000}.tableWrapper table tr td.border-t{border-top:1px solid #000}.tableWrapper table tr td.border-b{border-bottom:1px solid #000}.tableWrapper table tr td.border-ll{border-left:2px solid #000}.tableWrapper table tr td.border-rr{border-right:2px solid #000}.tableWrapper table tr td.border-tt{border-top:2px solid #000}.tableWrapper table tr td.border-bb{border-bottom:2px solid #000}.tableWrapper table tr td.align-left{text-align:left}.tableWrapper table tr td.align-right{text-align:right}.tableWrapper table tr td.align-center{text-align:center}.tableWrapper table tr td.align-justify{text-align:justify}div.form-group>input.form-control.input-sm{border-radius:2px;font-size:.75rem;background-color:#fff;color:#363636;box-shadow:inset 0 1px 2px rgba(10,10,10,.1);max-width:100%;width:100%;height:2.25em;padding:calc(.375em - 1px) calc(.625em - 1px);position:relative;border:1px solid #b5b5b5}div.form-group>input.form-control.input-sm:focus{border-color:#3273dc;box-shadow:0 0 0 .125em rgba(50,115,220,.25)}.ht_clone_top{z-index:20}.evaluation-tables{overflow:scroll;max-height:20vh;border-top:1px solid #a9a9a9}.navbar.is-fixed-bottom,.navbar.is-fixed-top{z-index:200}body{padding-bottom:20vh}\n",
       ".tableWrapper .final-proposal{ background: lightgreen }\n",
       "</style>\n",
       "\n",
       "<div class=\"tableWrapper\">\n",
       "<table>\n",
       "<tr>\n",
       "<td class=\"  \" title=\"\">Tag</td>\n",
       "<td class=\"  \" title=\"\">description</td>\n",
       "</tr>\n",
       "<tr>\n",
       "<td class=\"model-best  \" title=\"\">model-best</td>\n",
       "<td class=\"  \" title=\"\">the best performing model introduced in the paper</td>\n",
       "</tr>\n",
       "<tr>\n",
       "<td class=\"model-paper  \" title=\"\">model-paper</td>\n",
       "<td class=\"  \" title=\"\">model introduced in the paper</td>\n",
       "</tr>\n",
       "<tr>\n",
       "<td class=\"model-ensemble  \" title=\"\">model-ensemble</td>\n",
       "<td class=\"  \" title=\"\">ensemble of models introduced in the paper</td>\n",
       "</tr>\n",
       "<tr>\n",
       "<td class=\"model-competing  \" title=\"\">model-competing</td>\n",
       "<td class=\"  \" title=\"\">model from another paper used for comparison</td>\n",
       "</tr>\n",
       "<tr>\n",
       "<td class=\"dataset-task  \" title=\"\">dataset-task</td>\n",
       "<td class=\"  \" title=\"\">Task</td>\n",
       "</tr>\n",
       "<tr>\n",
       "<td class=\"dataset  \" title=\"\">dataset</td>\n",
       "<td class=\"  \" title=\"\">Dataset</td>\n",
       "</tr>\n",
       "<tr>\n",
       "<td class=\"dataset-sub  \" title=\"\">dataset-sub</td>\n",
       "<td class=\"  \" title=\"\">Subdataset</td>\n",
       "</tr>\n",
       "<tr>\n",
       "<td class=\"dataset-metric  \" title=\"\">dataset-metric</td>\n",
       "<td class=\"  \" title=\"\">Metric</td>\n",
       "</tr>\n",
       "<tr>\n",
       "<td class=\"model-params  \" title=\"\">model-params</td>\n",
       "<td class=\"  \" title=\"\">Params, f.e., number of layers or inference time</td>\n",
       "</tr>\n",
       "<tr>\n",
       "<td class=\"table-meta  \" title=\"\">table-meta</td>\n",
       "<td class=\"  \" title=\"\">Cell describing other header cells</td>\n",
       "</tr>\n",
       "<tr>\n",
       "<td class=\"trash  \" title=\"\">trash</td>\n",
       "<td class=\"  \" title=\"\">Parsing erros</td>\n",
       "</tr>\n",
       "</table>\n",
       "</div>"
      ],
      "text/plain": [
       "<IPython.core.display.HTML object>"
      ]
     },
     "metadata": {},
     "output_type": "display_data"
    }
   ],
   "source": [
    "pc.cells_gold_tags_legend()"
   ]
  },
  {
   "cell_type": "code",
   "execution_count": null,
   "metadata": {},
   "outputs": [
    {
     "ename": "IndexError",
     "evalue": "list index out of range",
     "output_type": "error",
     "traceback": [
      "\u001b[0;31m---------------------------------------------------------------------------\u001b[0m",
      "\u001b[0;31mIndexError\u001b[0m                                Traceback (most recent call last)",
      "\u001b[0;32m<ipython-input-19-bacd051380e6>\u001b[0m in \u001b[0;36m<module>\u001b[0;34m\u001b[0m\n\u001b[0;32m----> 1\u001b[0;31m \u001b[0mpaper\u001b[0m\u001b[0;34m.\u001b[0m\u001b[0mtables\u001b[0m\u001b[0;34m[\u001b[0m\u001b[0;36m1\u001b[0m\u001b[0;34m]\u001b[0m\u001b[0;34m.\u001b[0m\u001b[0msota_records\u001b[0m\u001b[0;34m\u001b[0m\u001b[0;34m\u001b[0m\u001b[0m\n\u001b[0m\u001b[1;32m      2\u001b[0m \u001b[0;31m# paper.tables[2]\u001b[0m\u001b[0;34m\u001b[0m\u001b[0;34m\u001b[0m\u001b[0;34m\u001b[0m\u001b[0m\n",
      "\u001b[0;31mIndexError\u001b[0m: list index out of range"
     ]
    }
   ],
   "source": [
    "paper.tables[1].sota_records\n",
    "# paper.tables[2]"
   ]
  },
  {
   "cell_type": "markdown",
   "metadata": {},
   "source": [
    "## Parallel Extraction\n",
    "\n",
    "For a single paper extraction can take from several seconds to a few minutes (the longest phase of converting LaTeX source into HTML is timed-out after 5 minutes), so to process multiple files we run extraction in parallel."
   ]
  },
  {
   "cell_type": "code",
   "execution_count": null,
   "metadata": {},
   "outputs": [
    {
     "name": "stdout",
     "output_type": "stream",
     "text": [
      "CPU times: user 100 ms, sys: 40.5 ms, total: 141 ms\n",
      "Wall time: 30.1 s\n"
     ]
    }
   ],
   "source": [
    "%%time\n",
    "\n",
    "from joblib import delayed, Parallel\n",
    "\n",
    "# access extract from the global context to avoid serialization\n",
    "def extract_single(file): return extract(file)\n",
    "\n",
    "files = sorted([path for path in SOURCES_PATH.glob('**/*') if path.is_file()])\n",
    "\n",
    "statuses = Parallel(backend='multiprocessing', n_jobs=-1)(delayed(extract_single)(file) for file in files)"
   ]
  }
 ],
 "metadata": {
  "kernelspec": {
   "display_name": "Python 3",
   "language": "python",
   "name": "python3"
  },
  "language_info": {
   "codemirror_mode": {
    "name": "ipython",
    "version": 3
   },
   "file_extension": ".py",
   "mimetype": "text/x-python",
   "name": "python",
   "nbconvert_exporter": "python",
   "pygments_lexer": "ipython3",
   "version": "3.7.12"
  }
 },
 "nbformat": 4,
 "nbformat_minor": 2
}
